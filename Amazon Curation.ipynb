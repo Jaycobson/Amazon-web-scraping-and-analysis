{
 "cells": [
  {
   "cell_type": "markdown",
   "id": "c347a9ee",
   "metadata": {},
   "source": [
    "# AMAZON DATA CURATION "
   ]
  },
  {
   "cell_type": "markdown",
   "id": "8f6eae10",
   "metadata": {},
   "source": [
    "In this project, data was curated from the amazon website to check the list of best sellers from 2009.\n",
    "\n",
    "Over the years, amazon has been the world store where one can easily order a product and get it delivered. The delivery time has reduced because there are more amazom warehouses and more efforts in logistics and planning."
   ]
  },
  {
   "cell_type": "markdown",
   "id": "70e07223",
   "metadata": {},
   "source": [
    "This data was curated and analysed to see hidden information in the data. \n",
    "\n",
    "Data curation involves the organising and storage of data so that it can be used anytime in the future. Data has to be curated properly in order to avoid errors "
   ]
  },
  {
   "cell_type": "code",
   "execution_count": 1,
   "id": "5bf08317",
   "metadata": {},
   "outputs": [],
   "source": [
    "#importing libraries\n",
    "\n",
    "import pandas as pd\n",
    "import numpy as np\n",
    "import matplotlib.pyplot as plt\n",
    "import seaborn as sns\n",
    "%matplotlib inline\n",
    "from urllib.request import urlopen\n",
    "from bs4 import BeautifulSoup\n",
    "import requests"
   ]
  },
  {
   "cell_type": "markdown",
   "id": "4bbfbbf4",
   "metadata": {},
   "source": [
    "The Beautiful Soup library was used to scrap the data from the amazon website"
   ]
  },
  {
   "cell_type": "code",
   "execution_count": 2,
   "id": "5634484b",
   "metadata": {},
   "outputs": [],
   "source": [
    "no_pages = 75\n",
    "\n",
    "def get_data(pageNo):  \n",
    "    headers = {\"User-Agent\":\"Mozilla/5.0 (Windows NT 10.0; Win64; x64; rv:66.0) Gecko/20100101 Firefox/66.0\", \"Accept-Encoding\":\"gzip, deflate\", \"Accept\":\"text/html,application/xhtml+xml,application/xml;q=0.9,*/*;q=0.8\", \"DNT\":\"1\",\"Connection\":\"close\", \"Upgrade-Insecure-Requests\":\"1\"}\n",
    "    r = requests.get('https://www.amazon.com/gp/bestsellers/books/ref=zg_bs_pg_'+str(pageNo)+'?ie=UTF8&pg='+str(pageNo), headers=headers)#, proxies=proxies)\n",
    "    content = r.content\n",
    "    soup = BeautifulSoup(content)\n",
    "    \n",
    "    alls = []\n",
    "    for d in soup.findAll('div', attrs={'class' : 'a-cardui _p13n-zg-list-grid-desktop_style_grid-cell__1uMOS p13n-grid-content'}):\n",
    "        name = d.find('div', attrs={'class':'_p13n-zg-list-grid-desktop_truncationStyles_p13n-sc-css-line-clamp-1__1Fn1y'})\n",
    "        author = d.find('a', attrs={'class':'a-size-small a-link-child'})\n",
    "        rating = d.find('span', attrs={'class':'a-icon-alt'})\n",
    "        users_rated = d.find('span', attrs={'class':'a-size-small'})\n",
    "        price = d.find('span', attrs={'class':'_p13n-zg-list-grid-desktop_price_p13n-sc-price__3mJ9Z'})\n",
    "\n",
    "        all1=[]\n",
    "\n",
    "        if name is not None:\n",
    "            all1.append(name.text)\n",
    "        else:\n",
    "            all1.append(\"unknown-product\")\n",
    "            \n",
    "        if author is not None:\n",
    "            #print(author.text)\n",
    "            all1.append(author.text)\n",
    "        elif author is None:\n",
    "            author = d.find('span', attrs={'class':'a-size-small a-color-base'})\n",
    "            if author is not None:\n",
    "                all1.append(author.text)\n",
    "            else:    \n",
    "                all1.append('0')\n",
    "\n",
    "        if rating is not None:\n",
    "            #print(rating.text)\n",
    "            all1.append(rating.text)\n",
    "        else:\n",
    "            all1.append('-1')\n",
    "            \n",
    "\n",
    "        if price is not None:\n",
    "            #print(price.text)\n",
    "            all1.append(price.text)\n",
    "        else:\n",
    "            all1.append('0')\n",
    "            \n",
    "    \n",
    "        alls.append(all1)    \n",
    "    return alls"
   ]
  },
  {
   "cell_type": "code",
   "execution_count": 3,
   "id": "90687dbb",
   "metadata": {},
   "outputs": [],
   "source": [
    "results = []\n",
    "for i in range(1, no_pages):\n",
    "    results.append(get_data(i))\n",
    "flatten = lambda l: [item for sublist in l for item in sublist]\n",
    "df = pd.DataFrame(flatten(results),columns=['Book Name','Author','Rating', 'Price'])\n",
    "df.to_csv('amazon_products.csv', index=False, encoding='utf-8')"
   ]
  },
  {
   "cell_type": "code",
   "execution_count": 4,
   "id": "ed408f52",
   "metadata": {},
   "outputs": [],
   "source": [
    "df1 = pd.read_csv(\"amazon_products.csv\")"
   ]
  },
  {
   "cell_type": "code",
   "execution_count": 5,
   "id": "84c7cc11",
   "metadata": {},
   "outputs": [
    {
     "data": {
      "text/html": [
       "<div>\n",
       "<style scoped>\n",
       "    .dataframe tbody tr th:only-of-type {\n",
       "        vertical-align: middle;\n",
       "    }\n",
       "\n",
       "    .dataframe tbody tr th {\n",
       "        vertical-align: top;\n",
       "    }\n",
       "\n",
       "    .dataframe thead th {\n",
       "        text-align: right;\n",
       "    }\n",
       "</style>\n",
       "<table border=\"1\" class=\"dataframe\">\n",
       "  <thead>\n",
       "    <tr style=\"text-align: right;\">\n",
       "      <th></th>\n",
       "      <th>Book Name</th>\n",
       "      <th>Author</th>\n",
       "      <th>Rating</th>\n",
       "      <th>Price</th>\n",
       "    </tr>\n",
       "  </thead>\n",
       "  <tbody>\n",
       "    <tr>\n",
       "      <th>0</th>\n",
       "      <td>How to Catch the Easter Bunny</td>\n",
       "      <td>Adam Wallace</td>\n",
       "      <td>4.8 out of 5 stars</td>\n",
       "      <td>$7.34</td>\n",
       "    </tr>\n",
       "    <tr>\n",
       "      <th>1</th>\n",
       "      <td>It's Not Easy Being a Bunny (Beginner Books(R))</td>\n",
       "      <td>Marilyn Sadler</td>\n",
       "      <td>4.8 out of 5 stars</td>\n",
       "      <td>$5.98</td>\n",
       "    </tr>\n",
       "    <tr>\n",
       "      <th>2</th>\n",
       "      <td>Half Baked Harvest Every Day: Recipes for Bala...</td>\n",
       "      <td>Tieghan Gerard</td>\n",
       "      <td>4.6 out of 5 stars</td>\n",
       "      <td>$19.48</td>\n",
       "    </tr>\n",
       "    <tr>\n",
       "      <th>3</th>\n",
       "      <td>Recessional: The Death of Free Speech and the ...</td>\n",
       "      <td>David Mamet</td>\n",
       "      <td>5.0 out of 5 stars</td>\n",
       "      <td>$28.99</td>\n",
       "    </tr>\n",
       "    <tr>\n",
       "      <th>4</th>\n",
       "      <td>Atomic Habits: An Easy &amp; Proven Way to Build G...</td>\n",
       "      <td>James Clear</td>\n",
       "      <td>4.8 out of 5 stars</td>\n",
       "      <td>$11.98</td>\n",
       "    </tr>\n",
       "    <tr>\n",
       "      <th>...</th>\n",
       "      <td>...</td>\n",
       "      <td>...</td>\n",
       "      <td>...</td>\n",
       "      <td>...</td>\n",
       "    </tr>\n",
       "    <tr>\n",
       "      <th>235</th>\n",
       "      <td>200 Must Know Sight Words Activity Workbook: L...</td>\n",
       "      <td>Smart Kids Notebooks</td>\n",
       "      <td>4.7 out of 5 stars</td>\n",
       "      <td>$5.99</td>\n",
       "    </tr>\n",
       "    <tr>\n",
       "      <th>236</th>\n",
       "      <td>Embrace Your Almost: Find Clarity and Contentm...</td>\n",
       "      <td>Jordan Lee Dooley</td>\n",
       "      <td>5.0 out of 5 stars</td>\n",
       "      <td>$19.99</td>\n",
       "    </tr>\n",
       "    <tr>\n",
       "      <th>237</th>\n",
       "      <td>Jesus Loves Me 5-Button Songbook - Perfect Gif...</td>\n",
       "      <td>Ginger Swift</td>\n",
       "      <td>4.8 out of 5 stars</td>\n",
       "      <td>$12.99</td>\n",
       "    </tr>\n",
       "    <tr>\n",
       "      <th>238</th>\n",
       "      <td>Salt, Fat, Acid, Heat: Mastering the Elements ...</td>\n",
       "      <td>Samin Nosrat</td>\n",
       "      <td>4.8 out of 5 stars</td>\n",
       "      <td>$16.65</td>\n",
       "    </tr>\n",
       "    <tr>\n",
       "      <th>239</th>\n",
       "      <td>Girl in Pieces</td>\n",
       "      <td>Kathleen Glasgow</td>\n",
       "      <td>4.7 out of 5 stars</td>\n",
       "      <td>$7.91</td>\n",
       "    </tr>\n",
       "  </tbody>\n",
       "</table>\n",
       "<p>240 rows × 4 columns</p>\n",
       "</div>"
      ],
      "text/plain": [
       "                                             Book Name                Author  \\\n",
       "0                        How to Catch the Easter Bunny          Adam Wallace   \n",
       "1      It's Not Easy Being a Bunny (Beginner Books(R))        Marilyn Sadler   \n",
       "2    Half Baked Harvest Every Day: Recipes for Bala...        Tieghan Gerard   \n",
       "3    Recessional: The Death of Free Speech and the ...           David Mamet   \n",
       "4    Atomic Habits: An Easy & Proven Way to Build G...           James Clear   \n",
       "..                                                 ...                   ...   \n",
       "235  200 Must Know Sight Words Activity Workbook: L...  Smart Kids Notebooks   \n",
       "236  Embrace Your Almost: Find Clarity and Contentm...     Jordan Lee Dooley   \n",
       "237  Jesus Loves Me 5-Button Songbook - Perfect Gif...          Ginger Swift   \n",
       "238  Salt, Fat, Acid, Heat: Mastering the Elements ...          Samin Nosrat   \n",
       "239                                     Girl in Pieces      Kathleen Glasgow   \n",
       "\n",
       "                 Rating   Price  \n",
       "0    4.8 out of 5 stars   $7.34  \n",
       "1    4.8 out of 5 stars   $5.98  \n",
       "2    4.6 out of 5 stars  $19.48  \n",
       "3    5.0 out of 5 stars  $28.99  \n",
       "4    4.8 out of 5 stars  $11.98  \n",
       "..                  ...     ...  \n",
       "235  4.7 out of 5 stars   $5.99  \n",
       "236  5.0 out of 5 stars  $19.99  \n",
       "237  4.8 out of 5 stars  $12.99  \n",
       "238  4.8 out of 5 stars  $16.65  \n",
       "239  4.7 out of 5 stars   $7.91  \n",
       "\n",
       "[240 rows x 4 columns]"
      ]
     },
     "execution_count": 5,
     "metadata": {},
     "output_type": "execute_result"
    }
   ],
   "source": [
    "df1"
   ]
  },
  {
   "cell_type": "code",
   "execution_count": 6,
   "id": "d089687d",
   "metadata": {},
   "outputs": [],
   "source": [
    "df['Rating'] = df['Rating'].apply(lambda x: x.split()[0]).astype(float)"
   ]
  },
  {
   "cell_type": "code",
   "execution_count": 7,
   "id": "dbce6922",
   "metadata": {},
   "outputs": [
    {
     "data": {
      "text/plain": [
       "Book Name     object\n",
       "Author        object\n",
       "Rating       float64\n",
       "Price         object\n",
       "dtype: object"
      ]
     },
     "execution_count": 7,
     "metadata": {},
     "output_type": "execute_result"
    }
   ],
   "source": [
    "df.dtypes"
   ]
  },
  {
   "cell_type": "code",
   "execution_count": 8,
   "id": "f192894b",
   "metadata": {},
   "outputs": [
    {
     "name": "stderr",
     "output_type": "stream",
     "text": [
      "D:\\anacon\\lib\\site-packages\\ipykernel_launcher.py:1: FutureWarning: The default value of regex will change from True to False in a future version. In addition, single character regular expressions will *not* be treated as literal strings when regex=True.\n",
      "  \"\"\"Entry point for launching an IPython kernel.\n"
     ]
    }
   ],
   "source": [
    "df[\"Price\"] = df[\"Price\"].str.replace('$','').astype(float)"
   ]
  },
  {
   "cell_type": "code",
   "execution_count": 9,
   "id": "310ade77",
   "metadata": {},
   "outputs": [
    {
     "data": {
      "text/plain": [
       "Book Name    0\n",
       "Author       0\n",
       "Rating       0\n",
       "Price        0\n",
       "dtype: int64"
      ]
     },
     "execution_count": 9,
     "metadata": {},
     "output_type": "execute_result"
    }
   ],
   "source": [
    "df.isnull().sum()"
   ]
  },
  {
   "cell_type": "code",
   "execution_count": 10,
   "id": "963965c5",
   "metadata": {},
   "outputs": [
    {
     "data": {
      "text/html": [
       "<div>\n",
       "<style scoped>\n",
       "    .dataframe tbody tr th:only-of-type {\n",
       "        vertical-align: middle;\n",
       "    }\n",
       "\n",
       "    .dataframe tbody tr th {\n",
       "        vertical-align: top;\n",
       "    }\n",
       "\n",
       "    .dataframe thead th {\n",
       "        text-align: right;\n",
       "    }\n",
       "</style>\n",
       "<table border=\"1\" class=\"dataframe\">\n",
       "  <thead>\n",
       "    <tr style=\"text-align: right;\">\n",
       "      <th></th>\n",
       "      <th>Book Name</th>\n",
       "      <th>Author</th>\n",
       "      <th>Rating</th>\n",
       "      <th>Price</th>\n",
       "    </tr>\n",
       "  </thead>\n",
       "  <tbody>\n",
       "    <tr>\n",
       "      <th>0</th>\n",
       "      <td>How to Catch the Easter Bunny</td>\n",
       "      <td>Adam Wallace</td>\n",
       "      <td>4.8</td>\n",
       "      <td>7.34</td>\n",
       "    </tr>\n",
       "    <tr>\n",
       "      <th>1</th>\n",
       "      <td>It's Not Easy Being a Bunny (Beginner Books(R))</td>\n",
       "      <td>Marilyn Sadler</td>\n",
       "      <td>4.8</td>\n",
       "      <td>5.98</td>\n",
       "    </tr>\n",
       "    <tr>\n",
       "      <th>2</th>\n",
       "      <td>Half Baked Harvest Every Day: Recipes for Bala...</td>\n",
       "      <td>Tieghan Gerard</td>\n",
       "      <td>4.6</td>\n",
       "      <td>19.48</td>\n",
       "    </tr>\n",
       "    <tr>\n",
       "      <th>3</th>\n",
       "      <td>Recessional: The Death of Free Speech and the ...</td>\n",
       "      <td>David Mamet</td>\n",
       "      <td>5.0</td>\n",
       "      <td>28.99</td>\n",
       "    </tr>\n",
       "    <tr>\n",
       "      <th>4</th>\n",
       "      <td>Atomic Habits: An Easy &amp; Proven Way to Build G...</td>\n",
       "      <td>James Clear</td>\n",
       "      <td>4.8</td>\n",
       "      <td>11.98</td>\n",
       "    </tr>\n",
       "  </tbody>\n",
       "</table>\n",
       "</div>"
      ],
      "text/plain": [
       "                                           Book Name          Author  Rating  \\\n",
       "0                      How to Catch the Easter Bunny    Adam Wallace     4.8   \n",
       "1    It's Not Easy Being a Bunny (Beginner Books(R))  Marilyn Sadler     4.8   \n",
       "2  Half Baked Harvest Every Day: Recipes for Bala...  Tieghan Gerard     4.6   \n",
       "3  Recessional: The Death of Free Speech and the ...     David Mamet     5.0   \n",
       "4  Atomic Habits: An Easy & Proven Way to Build G...     James Clear     4.8   \n",
       "\n",
       "   Price  \n",
       "0   7.34  \n",
       "1   5.98  \n",
       "2  19.48  \n",
       "3  28.99  \n",
       "4  11.98  "
      ]
     },
     "execution_count": 10,
     "metadata": {},
     "output_type": "execute_result"
    }
   ],
   "source": [
    "df.head()"
   ]
  },
  {
   "cell_type": "code",
   "execution_count": 11,
   "id": "193bb76e",
   "metadata": {},
   "outputs": [
    {
     "data": {
      "text/plain": [
       "False"
      ]
     },
     "execution_count": 11,
     "metadata": {},
     "output_type": "execute_result"
    }
   ],
   "source": [
    "df.duplicated().any()"
   ]
  },
  {
   "cell_type": "code",
   "execution_count": 12,
   "id": "a38a4903",
   "metadata": {},
   "outputs": [
    {
     "data": {
      "text/plain": [
       "Book Name     object\n",
       "Author        object\n",
       "Rating       float64\n",
       "Price        float64\n",
       "dtype: object"
      ]
     },
     "execution_count": 12,
     "metadata": {},
     "output_type": "execute_result"
    }
   ],
   "source": [
    "df.dtypes"
   ]
  },
  {
   "cell_type": "code",
   "execution_count": 13,
   "id": "b17cccc3",
   "metadata": {},
   "outputs": [
    {
     "data": {
      "text/plain": [
       "(240, 4)"
      ]
     },
     "execution_count": 13,
     "metadata": {},
     "output_type": "execute_result"
    }
   ],
   "source": [
    "df.shape"
   ]
  },
  {
   "cell_type": "code",
   "execution_count": 14,
   "id": "1ea8bab6",
   "metadata": {},
   "outputs": [
    {
     "data": {
      "text/html": [
       "<div>\n",
       "<style scoped>\n",
       "    .dataframe tbody tr th:only-of-type {\n",
       "        vertical-align: middle;\n",
       "    }\n",
       "\n",
       "    .dataframe tbody tr th {\n",
       "        vertical-align: top;\n",
       "    }\n",
       "\n",
       "    .dataframe thead th {\n",
       "        text-align: right;\n",
       "    }\n",
       "</style>\n",
       "<table border=\"1\" class=\"dataframe\">\n",
       "  <thead>\n",
       "    <tr style=\"text-align: right;\">\n",
       "      <th></th>\n",
       "      <th>Rating</th>\n",
       "      <th>Price</th>\n",
       "    </tr>\n",
       "  </thead>\n",
       "  <tbody>\n",
       "    <tr>\n",
       "      <th>count</th>\n",
       "      <td>240.000000</td>\n",
       "      <td>240.000000</td>\n",
       "    </tr>\n",
       "    <tr>\n",
       "      <th>mean</th>\n",
       "      <td>4.364167</td>\n",
       "      <td>11.903333</td>\n",
       "    </tr>\n",
       "    <tr>\n",
       "      <th>std</th>\n",
       "      <td>1.399749</td>\n",
       "      <td>6.894301</td>\n",
       "    </tr>\n",
       "    <tr>\n",
       "      <th>min</th>\n",
       "      <td>-1.000000</td>\n",
       "      <td>0.000000</td>\n",
       "    </tr>\n",
       "    <tr>\n",
       "      <th>25%</th>\n",
       "      <td>4.600000</td>\n",
       "      <td>6.990000</td>\n",
       "    </tr>\n",
       "    <tr>\n",
       "      <th>50%</th>\n",
       "      <td>4.800000</td>\n",
       "      <td>10.370000</td>\n",
       "    </tr>\n",
       "    <tr>\n",
       "      <th>75%</th>\n",
       "      <td>4.800000</td>\n",
       "      <td>16.215000</td>\n",
       "    </tr>\n",
       "    <tr>\n",
       "      <th>max</th>\n",
       "      <td>5.000000</td>\n",
       "      <td>43.990000</td>\n",
       "    </tr>\n",
       "  </tbody>\n",
       "</table>\n",
       "</div>"
      ],
      "text/plain": [
       "           Rating       Price\n",
       "count  240.000000  240.000000\n",
       "mean     4.364167   11.903333\n",
       "std      1.399749    6.894301\n",
       "min     -1.000000    0.000000\n",
       "25%      4.600000    6.990000\n",
       "50%      4.800000   10.370000\n",
       "75%      4.800000   16.215000\n",
       "max      5.000000   43.990000"
      ]
     },
     "execution_count": 14,
     "metadata": {},
     "output_type": "execute_result"
    }
   ],
   "source": [
    "df.describe()"
   ]
  },
  {
   "cell_type": "markdown",
   "id": "ae3116af",
   "metadata": {},
   "source": [
    "Using the describe function, we can see that there are wrong data in the dataset. For example, we can't have a price of $0 and we can't have a rating of -1 too. Therefore, there is a need to drop rows that have these values in them"
   ]
  },
  {
   "cell_type": "code",
   "execution_count": 15,
   "id": "55485dff",
   "metadata": {},
   "outputs": [],
   "source": [
    "df = df[df['Price'] != 0]\n",
    "df = df[df['Rating'] != -1]"
   ]
  },
  {
   "cell_type": "code",
   "execution_count": 16,
   "id": "4cea7d64",
   "metadata": {},
   "outputs": [
    {
     "data": {
      "text/html": [
       "<div>\n",
       "<style scoped>\n",
       "    .dataframe tbody tr th:only-of-type {\n",
       "        vertical-align: middle;\n",
       "    }\n",
       "\n",
       "    .dataframe tbody tr th {\n",
       "        vertical-align: top;\n",
       "    }\n",
       "\n",
       "    .dataframe thead th {\n",
       "        text-align: right;\n",
       "    }\n",
       "</style>\n",
       "<table border=\"1\" class=\"dataframe\">\n",
       "  <thead>\n",
       "    <tr style=\"text-align: right;\">\n",
       "      <th></th>\n",
       "      <th>Rating</th>\n",
       "      <th>Price</th>\n",
       "    </tr>\n",
       "  </thead>\n",
       "  <tbody>\n",
       "    <tr>\n",
       "      <th>count</th>\n",
       "      <td>219.000000</td>\n",
       "      <td>219.000000</td>\n",
       "    </tr>\n",
       "    <tr>\n",
       "      <th>mean</th>\n",
       "      <td>4.720548</td>\n",
       "      <td>11.768950</td>\n",
       "    </tr>\n",
       "    <tr>\n",
       "      <th>std</th>\n",
       "      <td>0.189852</td>\n",
       "      <td>6.197465</td>\n",
       "    </tr>\n",
       "    <tr>\n",
       "      <th>min</th>\n",
       "      <td>3.900000</td>\n",
       "      <td>2.880000</td>\n",
       "    </tr>\n",
       "    <tr>\n",
       "      <th>25%</th>\n",
       "      <td>4.700000</td>\n",
       "      <td>6.990000</td>\n",
       "    </tr>\n",
       "    <tr>\n",
       "      <th>50%</th>\n",
       "      <td>4.800000</td>\n",
       "      <td>10.350000</td>\n",
       "    </tr>\n",
       "    <tr>\n",
       "      <th>75%</th>\n",
       "      <td>4.800000</td>\n",
       "      <td>16.095000</td>\n",
       "    </tr>\n",
       "    <tr>\n",
       "      <th>max</th>\n",
       "      <td>5.000000</td>\n",
       "      <td>35.470000</td>\n",
       "    </tr>\n",
       "  </tbody>\n",
       "</table>\n",
       "</div>"
      ],
      "text/plain": [
       "           Rating       Price\n",
       "count  219.000000  219.000000\n",
       "mean     4.720548   11.768950\n",
       "std      0.189852    6.197465\n",
       "min      3.900000    2.880000\n",
       "25%      4.700000    6.990000\n",
       "50%      4.800000   10.350000\n",
       "75%      4.800000   16.095000\n",
       "max      5.000000   35.470000"
      ]
     },
     "execution_count": 16,
     "metadata": {},
     "output_type": "execute_result"
    }
   ],
   "source": [
    "df.describe()"
   ]
  },
  {
   "cell_type": "markdown",
   "id": "b81f77da",
   "metadata": {},
   "source": [
    "Now, our dataset makes more sense"
   ]
  },
  {
   "cell_type": "markdown",
   "id": "277ba607",
   "metadata": {},
   "source": [
    "Let us look at the histogram of our numeric columns"
   ]
  },
  {
   "cell_type": "code",
   "execution_count": 18,
   "id": "4bbcbf26",
   "metadata": {},
   "outputs": [
    {
     "data": {
      "image/png": "[encoded data removed]",
      "text/plain": [
       "<Figure size 720x576 with 1 Axes>"
      ]
     },
     "metadata": {
      "needs_background": "light"
     },
     "output_type": "display_data"
    }
   ],
   "source": [
    "plt.figure(figsize = (10,8))\n",
    "plt.hist(df['Price'])\n",
    "plt.xlabel('Price in usd')\n",
    "plt.ylabel('Frequency')\n",
    "plt.title('Distribution of Prices');"
   ]
  },
  {
   "cell_type": "markdown",
   "id": "9ebd3937",
   "metadata": {},
   "source": [
    "From the figure above, i can deduce that most prices were within the range of 6 - 12 usd\n",
    "\n",
    "Smaller prices tend to have more frequency than products with high prices."
   ]
  },
  {
   "cell_type": "code",
   "execution_count": 19,
   "id": "ae94f150",
   "metadata": {},
   "outputs": [
    {
     "data": {
      "image/png": "[encoded data removed]",
      "text/plain": [
       "<Figure size 720x576 with 1 Axes>"
      ]
     },
     "metadata": {
      "needs_background": "light"
     },
     "output_type": "display_data"
    }
   ],
   "source": [
    "plt.figure(figsize = (10,8))\n",
    "plt.hist(df['Rating'])\n",
    "plt.xlabel('Ratings')\n",
    "plt.ylabel('Frequency')\n",
    "plt.title('Distribution of Ratings');"
   ]
  },
  {
   "cell_type": "markdown",
   "id": "355ab081",
   "metadata": {},
   "source": [
    "Looking at the histogram plot of the ratings column, it is observed that most best seller books had ratings between 4.7 to 4.9"
   ]
  },
  {
   "cell_type": "code",
   "execution_count": 20,
   "id": "73b1d4ab",
   "metadata": {},
   "outputs": [
    {
     "data": {
      "text/html": [
       "<div>\n",
       "<style scoped>\n",
       "    .dataframe tbody tr th:only-of-type {\n",
       "        vertical-align: middle;\n",
       "    }\n",
       "\n",
       "    .dataframe tbody tr th {\n",
       "        vertical-align: top;\n",
       "    }\n",
       "\n",
       "    .dataframe thead th {\n",
       "        text-align: right;\n",
       "    }\n",
       "</style>\n",
       "<table border=\"1\" class=\"dataframe\">\n",
       "  <thead>\n",
       "    <tr style=\"text-align: right;\">\n",
       "      <th></th>\n",
       "      <th>Book Name</th>\n",
       "      <th>Author</th>\n",
       "      <th>Rating</th>\n",
       "      <th>Price</th>\n",
       "    </tr>\n",
       "  </thead>\n",
       "  <tbody>\n",
       "    <tr>\n",
       "      <th>51</th>\n",
       "      <td>Flash Cards: Sight Words</td>\n",
       "      <td>Scholastic Teacher Resources</td>\n",
       "      <td>4.8</td>\n",
       "      <td>2.88</td>\n",
       "    </tr>\n",
       "  </tbody>\n",
       "</table>\n",
       "</div>"
      ],
      "text/plain": [
       "                   Book Name                        Author  Rating  Price\n",
       "51  Flash Cards: Sight Words  Scholastic Teacher Resources     4.8   2.88"
      ]
     },
     "execution_count": 20,
     "metadata": {},
     "output_type": "execute_result"
    }
   ],
   "source": [
    "df[df['Price'] == df['Price'].min()]\n",
    "\n",
    "# Which product had the least price?"
   ]
  },
  {
   "cell_type": "code",
   "execution_count": 21,
   "id": "33f3eee6",
   "metadata": {},
   "outputs": [
    {
     "data": {
      "text/html": [
       "<div>\n",
       "<style scoped>\n",
       "    .dataframe tbody tr th:only-of-type {\n",
       "        vertical-align: middle;\n",
       "    }\n",
       "\n",
       "    .dataframe tbody tr th {\n",
       "        vertical-align: top;\n",
       "    }\n",
       "\n",
       "    .dataframe thead th {\n",
       "        text-align: right;\n",
       "    }\n",
       "</style>\n",
       "<table border=\"1\" class=\"dataframe\">\n",
       "  <thead>\n",
       "    <tr style=\"text-align: right;\">\n",
       "      <th></th>\n",
       "      <th>Book Name</th>\n",
       "      <th>Author</th>\n",
       "      <th>Rating</th>\n",
       "      <th>Price</th>\n",
       "    </tr>\n",
       "  </thead>\n",
       "  <tbody>\n",
       "    <tr>\n",
       "      <th>215</th>\n",
       "      <td>System Design Interview – An Insider's Guide: ...</td>\n",
       "      <td>Alex Xu</td>\n",
       "      <td>4.7</td>\n",
       "      <td>35.47</td>\n",
       "    </tr>\n",
       "  </tbody>\n",
       "</table>\n",
       "</div>"
      ],
      "text/plain": [
       "                                             Book Name   Author  Rating  Price\n",
       "215  System Design Interview – An Insider's Guide: ...  Alex Xu     4.7  35.47"
      ]
     },
     "execution_count": 21,
     "metadata": {},
     "output_type": "execute_result"
    }
   ],
   "source": [
    "df[df['Price'] == df['Price'].max()]\n",
    "\n",
    "# Which product had the highest price?"
   ]
  },
  {
   "cell_type": "code",
   "execution_count": 22,
   "id": "4f3c0a0c",
   "metadata": {},
   "outputs": [
    {
     "data": {
      "text/html": [
       "<div>\n",
       "<style scoped>\n",
       "    .dataframe tbody tr th:only-of-type {\n",
       "        vertical-align: middle;\n",
       "    }\n",
       "\n",
       "    .dataframe tbody tr th {\n",
       "        vertical-align: top;\n",
       "    }\n",
       "\n",
       "    .dataframe thead th {\n",
       "        text-align: right;\n",
       "    }\n",
       "</style>\n",
       "<table border=\"1\" class=\"dataframe\">\n",
       "  <thead>\n",
       "    <tr style=\"text-align: right;\">\n",
       "      <th></th>\n",
       "      <th>Author</th>\n",
       "    </tr>\n",
       "  </thead>\n",
       "  <tbody>\n",
       "    <tr>\n",
       "      <th>Colleen Hoover</th>\n",
       "      <td>6</td>\n",
       "    </tr>\n",
       "    <tr>\n",
       "      <th>Julia Quinn</th>\n",
       "      <td>6</td>\n",
       "    </tr>\n",
       "    <tr>\n",
       "      <th>Alice Schertle</th>\n",
       "      <td>3</td>\n",
       "    </tr>\n",
       "    <tr>\n",
       "      <th>Sharon Jones</th>\n",
       "      <td>3</td>\n",
       "    </tr>\n",
       "    <tr>\n",
       "      <th>Brené Brown</th>\n",
       "      <td>3</td>\n",
       "    </tr>\n",
       "    <tr>\n",
       "      <th>Sarah J. Maas</th>\n",
       "      <td>3</td>\n",
       "    </tr>\n",
       "    <tr>\n",
       "      <th>Dav Pilkey</th>\n",
       "      <td>3</td>\n",
       "    </tr>\n",
       "    <tr>\n",
       "      <th>Tui T. Sutherland</th>\n",
       "      <td>2</td>\n",
       "    </tr>\n",
       "    <tr>\n",
       "      <th>Workman Publishing</th>\n",
       "      <td>2</td>\n",
       "    </tr>\n",
       "    <tr>\n",
       "      <th>Tieghan Gerard</th>\n",
       "      <td>2</td>\n",
       "    </tr>\n",
       "    <tr>\n",
       "      <th>Dr. Seuss</th>\n",
       "      <td>2</td>\n",
       "    </tr>\n",
       "    <tr>\n",
       "      <th>Shannon Bream</th>\n",
       "      <td>2</td>\n",
       "    </tr>\n",
       "    <tr>\n",
       "      <th>Marilyn Sadler</th>\n",
       "      <td>2</td>\n",
       "    </tr>\n",
       "    <tr>\n",
       "      <th>Suleika Jaouad</th>\n",
       "      <td>2</td>\n",
       "    </tr>\n",
       "    <tr>\n",
       "      <th>Laura Numeroff</th>\n",
       "      <td>2</td>\n",
       "    </tr>\n",
       "    <tr>\n",
       "      <th>Scholastic</th>\n",
       "      <td>2</td>\n",
       "    </tr>\n",
       "    <tr>\n",
       "      <th>Delia Owens</th>\n",
       "      <td>2</td>\n",
       "    </tr>\n",
       "    <tr>\n",
       "      <th>Clea Shearer</th>\n",
       "      <td>2</td>\n",
       "    </tr>\n",
       "  </tbody>\n",
       "</table>\n",
       "</div>"
      ],
      "text/plain": [
       "                    Author\n",
       "Colleen Hoover           6\n",
       "Julia Quinn              6\n",
       "Alice Schertle           3\n",
       "Sharon Jones             3\n",
       "Brené Brown              3\n",
       "Sarah J. Maas            3\n",
       "Dav Pilkey               3\n",
       "Tui T. Sutherland        2\n",
       "Workman Publishing       2\n",
       "Tieghan Gerard           2\n",
       "Dr. Seuss                2\n",
       "Shannon Bream            2\n",
       "Marilyn Sadler           2\n",
       "Suleika Jaouad           2\n",
       "Laura Numeroff           2\n",
       "Scholastic               2\n",
       "Delia Owens              2\n",
       "Clea Shearer             2"
      ]
     },
     "execution_count": 22,
     "metadata": {},
     "output_type": "execute_result"
    }
   ],
   "source": [
    "multiple = pd.DataFrame(df['Author'].value_counts())\n",
    "multiple[multiple['Author'] >1]\n",
    "\n",
    "#Are there best sellers that appeared on the list more than once?"
   ]
  },
  {
   "cell_type": "markdown",
   "id": "2f3884db",
   "metadata": {},
   "source": [
    "Some sellers appeared on the best seller list more than once and they are shown in the dataframe above"
   ]
  },
  {
   "cell_type": "code",
   "execution_count": 23,
   "id": "0e0286ee",
   "metadata": {},
   "outputs": [
    {
     "data": {
      "text/plain": [
       "Rating\n",
       "3.9     2\n",
       "4.0     2\n",
       "4.1     1\n",
       "4.2     2\n",
       "4.3     6\n",
       "4.4     4\n",
       "4.5    11\n",
       "4.6    24\n",
       "4.7    43\n",
       "4.8    81\n",
       "4.9    37\n",
       "5.0     6\n",
       "Name: Author, dtype: int64"
      ]
     },
     "execution_count": 23,
     "metadata": {},
     "output_type": "execute_result"
    }
   ],
   "source": [
    "df.groupby('Rating')['Author'].count()"
   ]
  },
  {
   "cell_type": "markdown",
   "id": "d470f6e5",
   "metadata": {},
   "source": [
    "This confirms our claim from the histogram of ratings that the highest ratings range from 4.7 to 4.9"
   ]
  }
 ],
 "metadata": {
  "kernelspec": {
   "display_name": "Python 3 (ipykernel)",
   "language": "python",
   "name": "python3"
  },
  "language_info": {
   "codemirror_mode": {
    "name": "ipython",
    "version": 3
   },
   "file_extension": ".py",
   "mimetype": "text/x-python",
   "name": "python",
   "nbconvert_exporter": "python",
   "pygments_lexer": "ipython3",
   "version": "3.7.3"
  }
 },
 "nbformat": 4,
 "nbformat_minor": 5
}
